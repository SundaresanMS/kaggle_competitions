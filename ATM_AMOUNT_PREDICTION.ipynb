{
  "nbformat": 4,
  "nbformat_minor": 0,
  "metadata": {
    "colab": {
      "name": "ATM AMOUNT PREDICTION.ipynb",
      "version": "0.3.2",
      "provenance": [],
      "include_colab_link": true
    },
    "kernelspec": {
      "name": "python3",
      "display_name": "Python 3"
    }
  },
  "cells": [
    {
      "cell_type": "markdown",
      "metadata": {
        "id": "view-in-github",
        "colab_type": "text"
      },
      "source": [
        "<a href=\"https://colab.research.google.com/github/SundaresanMS/kaggle_competitions/blob/master/ATM_AMOUNT_PREDICTION.ipynb\" target=\"_parent\"><img src=\"https://colab.research.google.com/assets/colab-badge.svg\" alt=\"Open In Colab\"/></a>"
      ]
    },
    {
      "cell_type": "code",
      "metadata": {
        "id": "CXbOcmd9qM9T",
        "colab_type": "code",
        "colab": {}
      },
      "source": [
        "import pandas as pd\n",
        "import numpy as np\n",
        "import matplotlib.pyplot as plt\n",
        "import seaborn as sns\n",
        "\n",
        "from sklearn.preprocessing import Imputer \n",
        "%matplotlib inline"
      ],
      "execution_count": 0,
      "outputs": []
    },
    {
      "cell_type": "code",
      "metadata": {
        "id": "Ms6ncWYVq-jm",
        "colab_type": "code",
        "outputId": "9b926202-70ea-485e-f687-a18d1b2d21da",
        "colab": {
          "resources": {
            "http://localhost:8080/nbextensions/google.colab/files.js": {
              "data": "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",
              "ok": true,
              "headers": [
                [
                  "content-type",
                  "application/javascript"
                ]
              ],
              "status": 200,
              "status_text": "OK"
            }
          },
          "base_uri": "https://localhost:8080/",
          "height": 75
        }
      },
      "source": [
        "from google.colab import files\n",
        "uploaded = files.upload()"
      ],
      "execution_count": 0,
      "outputs": [
        {
          "output_type": "display_data",
          "data": {
            "text/html": [
              "\n",
              "     <input type=\"file\" id=\"files-09b4658c-8b6f-4a74-bf4e-59bca8c83a9a\" name=\"files[]\" multiple disabled />\n",
              "     <output id=\"result-09b4658c-8b6f-4a74-bf4e-59bca8c83a9a\">\n",
              "      Upload widget is only available when the cell has been executed in the\n",
              "      current browser session. Please rerun this cell to enable.\n",
              "      </output>\n",
              "      <script src=\"/nbextensions/google.colab/files.js\"></script> "
            ],
            "text/plain": [
              "<IPython.core.display.HTML object>"
            ]
          },
          "metadata": {
            "tags": []
          }
        },
        {
          "output_type": "stream",
          "text": [
            "Saving ATM_Withdrawl_Prediction_Data.csv to ATM_Withdrawl_Prediction_Data.csv\n"
          ],
          "name": "stdout"
        }
      ]
    },
    {
      "cell_type": "code",
      "metadata": {
        "id": "pFeE_z1Kr_bx",
        "colab_type": "code",
        "colab": {}
      },
      "source": [
        "df = pd.read_csv('ATM_Withdrawl_Prediction_Data.csv')"
      ],
      "execution_count": 0,
      "outputs": []
    },
    {
      "cell_type": "code",
      "metadata": {
        "id": "MRHVnY8WtybF",
        "colab_type": "code",
        "outputId": "5f8ce0b7-bc2a-42bd-f5b5-93eac54b0a6c",
        "colab": {
          "base_uri": "https://localhost:8080/",
          "height": 434
        }
      },
      "source": [
        "df.head()"
      ],
      "execution_count": 0,
      "outputs": [
        {
          "output_type": "execute_result",
          "data": {
            "text/html": [
              "<div>\n",
              "<style scoped>\n",
              "    .dataframe tbody tr th:only-of-type {\n",
              "        vertical-align: middle;\n",
              "    }\n",
              "\n",
              "    .dataframe tbody tr th {\n",
              "        vertical-align: top;\n",
              "    }\n",
              "\n",
              "    .dataframe thead th {\n",
              "        text-align: right;\n",
              "    }\n",
              "</style>\n",
              "<table border=\"1\" class=\"dataframe\">\n",
              "  <thead>\n",
              "    <tr style=\"text-align: right;\">\n",
              "      <th></th>\n",
              "      <th>ID</th>\n",
              "      <th>Number of Shops Around ATM</th>\n",
              "      <th>ATM Zone</th>\n",
              "      <th>No of Other ATMs in 1 KM radius</th>\n",
              "      <th>Estimated Number of Houses in 1 KM Radius</th>\n",
              "      <th>ATM Placement</th>\n",
              "      <th>ATM TYPE</th>\n",
              "      <th>ATM Location TYPE</th>\n",
              "      <th>ATM looks</th>\n",
              "      <th>ATM Near</th>\n",
              "      <th>Avg Withdrawls Per Hour</th>\n",
              "      <th>ATM Attached to</th>\n",
              "      <th>Avg No of Withdrawls Per Week</th>\n",
              "      <th>Average Wait Time</th>\n",
              "      <th>Day Type</th>\n",
              "      <th>ATM RATING</th>\n",
              "      <th>ATM Prox</th>\n",
              "      <th>ATM Since</th>\n",
              "      <th>Holiday Sequence</th>\n",
              "      <th>AmountWithDrawn</th>\n",
              "    </tr>\n",
              "  </thead>\n",
              "  <tbody>\n",
              "    <tr>\n",
              "      <th>0</th>\n",
              "      <td>TS000000001</td>\n",
              "      <td>66</td>\n",
              "      <td>RL</td>\n",
              "      <td>65</td>\n",
              "      <td>8450</td>\n",
              "      <td>Facing Road</td>\n",
              "      <td>Urban</td>\n",
              "      <td>Only WIthdraw</td>\n",
              "      <td>Normal</td>\n",
              "      <td>College</td>\n",
              "      <td>7</td>\n",
              "      <td>Building</td>\n",
              "      <td>856</td>\n",
              "      <td>3</td>\n",
              "      <td>Working</td>\n",
              "      <td>4</td>\n",
              "      <td>Attached to Branch</td>\n",
              "      <td>2008</td>\n",
              "      <td>WW</td>\n",
              "      <td>209500</td>\n",
              "    </tr>\n",
              "    <tr>\n",
              "      <th>1</th>\n",
              "      <td>TS000000002</td>\n",
              "      <td>26</td>\n",
              "      <td>RL</td>\n",
              "      <td>80</td>\n",
              "      <td>9600</td>\n",
              "      <td>Facing Road</td>\n",
              "      <td>Urban</td>\n",
              "      <td>Only WIthdraw</td>\n",
              "      <td>Normal</td>\n",
              "      <td>Temple</td>\n",
              "      <td>6</td>\n",
              "      <td>Building</td>\n",
              "      <td>1262</td>\n",
              "      <td>3</td>\n",
              "      <td>Working</td>\n",
              "      <td>3</td>\n",
              "      <td>Attached to Branch</td>\n",
              "      <td>2007</td>\n",
              "      <td>WW</td>\n",
              "      <td>184300</td>\n",
              "    </tr>\n",
              "    <tr>\n",
              "      <th>2</th>\n",
              "      <td>TS000000003</td>\n",
              "      <td>65</td>\n",
              "      <td>RL</td>\n",
              "      <td>68</td>\n",
              "      <td>11250</td>\n",
              "      <td>Facing Road</td>\n",
              "      <td>Town</td>\n",
              "      <td>Only WIthdraw</td>\n",
              "      <td>Normal</td>\n",
              "      <td>College</td>\n",
              "      <td>7</td>\n",
              "      <td>Building</td>\n",
              "      <td>920</td>\n",
              "      <td>3</td>\n",
              "      <td>Working</td>\n",
              "      <td>4</td>\n",
              "      <td>Attached to Branch</td>\n",
              "      <td>2008</td>\n",
              "      <td>WW</td>\n",
              "      <td>231500</td>\n",
              "    </tr>\n",
              "    <tr>\n",
              "      <th>3</th>\n",
              "      <td>TS000000004</td>\n",
              "      <td>80</td>\n",
              "      <td>RL</td>\n",
              "      <td>60</td>\n",
              "      <td>9550</td>\n",
              "      <td>Facing Road</td>\n",
              "      <td>Town</td>\n",
              "      <td>Only WIthdraw</td>\n",
              "      <td>Normal</td>\n",
              "      <td>Shopping Complex</td>\n",
              "      <td>7</td>\n",
              "      <td>Building</td>\n",
              "      <td>961</td>\n",
              "      <td>3</td>\n",
              "      <td>Working</td>\n",
              "      <td>4</td>\n",
              "      <td>2 ATM Machines (Same Bank)</td>\n",
              "      <td>2006</td>\n",
              "      <td>HH</td>\n",
              "      <td>143600</td>\n",
              "    </tr>\n",
              "    <tr>\n",
              "      <th>4</th>\n",
              "      <td>TS000000005</td>\n",
              "      <td>66</td>\n",
              "      <td>RL</td>\n",
              "      <td>84</td>\n",
              "      <td>14260</td>\n",
              "      <td>Facing Road</td>\n",
              "      <td>Town</td>\n",
              "      <td>Only WIthdraw</td>\n",
              "      <td>Normal</td>\n",
              "      <td>Park</td>\n",
              "      <td>8</td>\n",
              "      <td>Building</td>\n",
              "      <td>1145</td>\n",
              "      <td>4</td>\n",
              "      <td>Working</td>\n",
              "      <td>4</td>\n",
              "      <td>Attached to Branch</td>\n",
              "      <td>2008</td>\n",
              "      <td>WW</td>\n",
              "      <td>255600</td>\n",
              "    </tr>\n",
              "  </tbody>\n",
              "</table>\n",
              "</div>"
            ],
            "text/plain": [
              "            ID  Number of Shops Around ATM  ... Holiday Sequence  AmountWithDrawn\n",
              "0  TS000000001                          66  ...               WW           209500\n",
              "1  TS000000002                          26  ...               WW           184300\n",
              "2  TS000000003                          65  ...               WW           231500\n",
              "3  TS000000004                          80  ...               HH           143600\n",
              "4  TS000000005                          66  ...               WW           255600\n",
              "\n",
              "[5 rows x 20 columns]"
            ]
          },
          "metadata": {
            "tags": []
          },
          "execution_count": 15
        }
      ]
    },
    {
      "cell_type": "code",
      "metadata": {
        "id": "x3SpDQg0uS90",
        "colab_type": "code",
        "outputId": "77bde718-3c64-4ea8-dcb4-0d61be488cea",
        "colab": {
          "base_uri": "https://localhost:8080/",
          "height": 487
        }
      },
      "source": [
        "df.tail()"
      ],
      "execution_count": 0,
      "outputs": [
        {
          "output_type": "execute_result",
          "data": {
            "text/html": [
              "<div>\n",
              "<style scoped>\n",
              "    .dataframe tbody tr th:only-of-type {\n",
              "        vertical-align: middle;\n",
              "    }\n",
              "\n",
              "    .dataframe tbody tr th {\n",
              "        vertical-align: top;\n",
              "    }\n",
              "\n",
              "    .dataframe thead th {\n",
              "        text-align: right;\n",
              "    }\n",
              "</style>\n",
              "<table border=\"1\" class=\"dataframe\">\n",
              "  <thead>\n",
              "    <tr style=\"text-align: right;\">\n",
              "      <th></th>\n",
              "      <th>ID</th>\n",
              "      <th>Number of Shops Around ATM</th>\n",
              "      <th>ATM Zone</th>\n",
              "      <th>No of Other ATMs in 1 KM radius</th>\n",
              "      <th>Estimated Number of Houses in 1 KM Radius</th>\n",
              "      <th>ATM Placement</th>\n",
              "      <th>ATM TYPE</th>\n",
              "      <th>ATM Location TYPE</th>\n",
              "      <th>ATM looks</th>\n",
              "      <th>ATM Near</th>\n",
              "      <th>Avg Withdrawls Per Hour</th>\n",
              "      <th>ATM Attached to</th>\n",
              "      <th>Avg No of Withdrawls Per Week</th>\n",
              "      <th>Average Wait Time</th>\n",
              "      <th>Day Type</th>\n",
              "      <th>ATM RATING</th>\n",
              "      <th>ATM Prox</th>\n",
              "      <th>ATM Since</th>\n",
              "      <th>Holiday Sequence</th>\n",
              "      <th>AmountWithDrawn</th>\n",
              "    </tr>\n",
              "  </thead>\n",
              "  <tbody>\n",
              "    <tr>\n",
              "      <th>186875</th>\n",
              "      <td>TS000186876</td>\n",
              "      <td>62</td>\n",
              "      <td>RL</td>\n",
              "      <td>62</td>\n",
              "      <td>7917</td>\n",
              "      <td>Facing Road</td>\n",
              "      <td>Urban</td>\n",
              "      <td>Only WIthdraw</td>\n",
              "      <td>Normal</td>\n",
              "      <td>Lodge and Hotel</td>\n",
              "      <td>6</td>\n",
              "      <td>Building</td>\n",
              "      <td>953</td>\n",
              "      <td>3</td>\n",
              "      <td>Working</td>\n",
              "      <td>3</td>\n",
              "      <td>Attached to Branch</td>\n",
              "      <td>2007</td>\n",
              "      <td>WW</td>\n",
              "      <td>179700</td>\n",
              "    </tr>\n",
              "    <tr>\n",
              "      <th>186876</th>\n",
              "      <td>TS000186877</td>\n",
              "      <td>26</td>\n",
              "      <td>RL</td>\n",
              "      <td>85</td>\n",
              "      <td>13175</td>\n",
              "      <td>Facing Road</td>\n",
              "      <td>Urban</td>\n",
              "      <td>Only WIthdraw</td>\n",
              "      <td>Normal</td>\n",
              "      <td>Market</td>\n",
              "      <td>6</td>\n",
              "      <td>Building</td>\n",
              "      <td>2073</td>\n",
              "      <td>3</td>\n",
              "      <td>Working</td>\n",
              "      <td>3</td>\n",
              "      <td>Attached to Branch</td>\n",
              "      <td>2010</td>\n",
              "      <td>WW</td>\n",
              "      <td>215600</td>\n",
              "    </tr>\n",
              "    <tr>\n",
              "      <th>186877</th>\n",
              "      <td>TS000186878</td>\n",
              "      <td>80</td>\n",
              "      <td>RL</td>\n",
              "      <td>66</td>\n",
              "      <td>9042</td>\n",
              "      <td>Facing Road</td>\n",
              "      <td>Urban</td>\n",
              "      <td>Only WIthdraw</td>\n",
              "      <td>Normal</td>\n",
              "      <td>Shopping Complex</td>\n",
              "      <td>7</td>\n",
              "      <td>Building</td>\n",
              "      <td>1188</td>\n",
              "      <td>4</td>\n",
              "      <td>Working</td>\n",
              "      <td>4</td>\n",
              "      <td>Attached to Branch</td>\n",
              "      <td>2010</td>\n",
              "      <td>WW</td>\n",
              "      <td>267800</td>\n",
              "    </tr>\n",
              "    <tr>\n",
              "      <th>186878</th>\n",
              "      <td>TS000186879</td>\n",
              "      <td>21</td>\n",
              "      <td>RL</td>\n",
              "      <td>68</td>\n",
              "      <td>9717</td>\n",
              "      <td>Facing Road</td>\n",
              "      <td>Urban</td>\n",
              "      <td>Only WIthdraw</td>\n",
              "      <td>Normal</td>\n",
              "      <td>Highway</td>\n",
              "      <td>5</td>\n",
              "      <td>Petrol Bunk</td>\n",
              "      <td>1078</td>\n",
              "      <td>2</td>\n",
              "      <td>Working</td>\n",
              "      <td>4</td>\n",
              "      <td>Attached to Branch</td>\n",
              "      <td>2010</td>\n",
              "      <td>WW</td>\n",
              "      <td>147525</td>\n",
              "    </tr>\n",
              "    <tr>\n",
              "      <th>186879</th>\n",
              "      <td>TS000186880</td>\n",
              "      <td>21</td>\n",
              "      <td>RL</td>\n",
              "      <td>75</td>\n",
              "      <td>9937</td>\n",
              "      <td>Facing Road</td>\n",
              "      <td>Urban</td>\n",
              "      <td>Only WIthdraw</td>\n",
              "      <td>Normal</td>\n",
              "      <td>Church</td>\n",
              "      <td>5</td>\n",
              "      <td>Building</td>\n",
              "      <td>1256</td>\n",
              "      <td>3</td>\n",
              "      <td>Working</td>\n",
              "      <td>3</td>\n",
              "      <td>Attached to Branch</td>\n",
              "      <td>2008</td>\n",
              "      <td>WW</td>\n",
              "      <td>152100</td>\n",
              "    </tr>\n",
              "  </tbody>\n",
              "</table>\n",
              "</div>"
            ],
            "text/plain": [
              "                 ID  ...  AmountWithDrawn\n",
              "186875  TS000186876  ...           179700\n",
              "186876  TS000186877  ...           215600\n",
              "186877  TS000186878  ...           267800\n",
              "186878  TS000186879  ...           147525\n",
              "186879  TS000186880  ...           152100\n",
              "\n",
              "[5 rows x 20 columns]"
            ]
          },
          "metadata": {
            "tags": []
          },
          "execution_count": 13
        }
      ]
    },
    {
      "cell_type": "code",
      "metadata": {
        "id": "tAFUwF6buXVC",
        "colab_type": "code",
        "outputId": "b58dcf2e-a3aa-4d82-af65-919905f28424",
        "colab": {
          "base_uri": "https://localhost:8080/",
          "height": 162
        }
      },
      "source": [
        "df.columns.values"
      ],
      "execution_count": 0,
      "outputs": [
        {
          "output_type": "execute_result",
          "data": {
            "text/plain": [
              "array(['ID', 'Number of Shops Around ATM', 'ATM Zone',\n",
              "       'No of Other ATMs in 1 KM radius',\n",
              "       'Estimated Number of Houses in 1 KM Radius', 'ATM Placement',\n",
              "       'ATM TYPE', 'ATM Location TYPE', 'ATM looks', 'ATM Near',\n",
              "       'Avg Withdrawls Per Hour', 'ATM Attached to',\n",
              "       'Avg No of Withdrawls Per Week', 'Average Wait Time', 'Day Type',\n",
              "       'ATM RATING', 'ATM Prox', 'ATM Since', 'Holiday Sequence',\n",
              "       'AmountWithDrawn'], dtype=object)"
            ]
          },
          "metadata": {
            "tags": []
          },
          "execution_count": 5
        }
      ]
    },
    {
      "cell_type": "code",
      "metadata": {
        "id": "9Z0hR_MUxBqq",
        "colab_type": "code",
        "colab": {}
      },
      "source": [
        "target = 'AmountWithDrawn'"
      ],
      "execution_count": 0,
      "outputs": []
    },
    {
      "cell_type": "code",
      "metadata": {
        "id": "smS0eHc7w315",
        "colab_type": "code",
        "outputId": "258fbad6-3ead-4923-91a0-6be5e2accddf",
        "colab": {
          "base_uri": "https://localhost:8080/",
          "height": 223
        }
      },
      "source": [
        "df.select_dtypes(np.number).head()"
      ],
      "execution_count": 0,
      "outputs": [
        {
          "output_type": "execute_result",
          "data": {
            "text/html": [
              "<div>\n",
              "<style scoped>\n",
              "    .dataframe tbody tr th:only-of-type {\n",
              "        vertical-align: middle;\n",
              "    }\n",
              "\n",
              "    .dataframe tbody tr th {\n",
              "        vertical-align: top;\n",
              "    }\n",
              "\n",
              "    .dataframe thead th {\n",
              "        text-align: right;\n",
              "    }\n",
              "</style>\n",
              "<table border=\"1\" class=\"dataframe\">\n",
              "  <thead>\n",
              "    <tr style=\"text-align: right;\">\n",
              "      <th></th>\n",
              "      <th>Number of Shops Around ATM</th>\n",
              "      <th>No of Other ATMs in 1 KM radius</th>\n",
              "      <th>Estimated Number of Houses in 1 KM Radius</th>\n",
              "      <th>Avg Withdrawls Per Hour</th>\n",
              "      <th>Avg No of Withdrawls Per Week</th>\n",
              "      <th>Average Wait Time</th>\n",
              "      <th>ATM RATING</th>\n",
              "      <th>ATM Since</th>\n",
              "      <th>AmountWithDrawn</th>\n",
              "    </tr>\n",
              "  </thead>\n",
              "  <tbody>\n",
              "    <tr>\n",
              "      <th>0</th>\n",
              "      <td>66</td>\n",
              "      <td>65</td>\n",
              "      <td>8450</td>\n",
              "      <td>7</td>\n",
              "      <td>856</td>\n",
              "      <td>3</td>\n",
              "      <td>4</td>\n",
              "      <td>2008</td>\n",
              "      <td>209500</td>\n",
              "    </tr>\n",
              "    <tr>\n",
              "      <th>1</th>\n",
              "      <td>26</td>\n",
              "      <td>80</td>\n",
              "      <td>9600</td>\n",
              "      <td>6</td>\n",
              "      <td>1262</td>\n",
              "      <td>3</td>\n",
              "      <td>3</td>\n",
              "      <td>2007</td>\n",
              "      <td>184300</td>\n",
              "    </tr>\n",
              "    <tr>\n",
              "      <th>2</th>\n",
              "      <td>65</td>\n",
              "      <td>68</td>\n",
              "      <td>11250</td>\n",
              "      <td>7</td>\n",
              "      <td>920</td>\n",
              "      <td>3</td>\n",
              "      <td>4</td>\n",
              "      <td>2008</td>\n",
              "      <td>231500</td>\n",
              "    </tr>\n",
              "    <tr>\n",
              "      <th>3</th>\n",
              "      <td>80</td>\n",
              "      <td>60</td>\n",
              "      <td>9550</td>\n",
              "      <td>7</td>\n",
              "      <td>961</td>\n",
              "      <td>3</td>\n",
              "      <td>4</td>\n",
              "      <td>2006</td>\n",
              "      <td>143600</td>\n",
              "    </tr>\n",
              "    <tr>\n",
              "      <th>4</th>\n",
              "      <td>66</td>\n",
              "      <td>84</td>\n",
              "      <td>14260</td>\n",
              "      <td>8</td>\n",
              "      <td>1145</td>\n",
              "      <td>4</td>\n",
              "      <td>4</td>\n",
              "      <td>2008</td>\n",
              "      <td>255600</td>\n",
              "    </tr>\n",
              "  </tbody>\n",
              "</table>\n",
              "</div>"
            ],
            "text/plain": [
              "   Number of Shops Around ATM  ...  AmountWithDrawn\n",
              "0                          66  ...           209500\n",
              "1                          26  ...           184300\n",
              "2                          65  ...           231500\n",
              "3                          80  ...           143600\n",
              "4                          66  ...           255600\n",
              "\n",
              "[5 rows x 9 columns]"
            ]
          },
          "metadata": {
            "tags": []
          },
          "execution_count": 8
        }
      ]
    },
    {
      "cell_type": "code",
      "metadata": {
        "id": "h7oWXYnJw-I_",
        "colab_type": "code",
        "outputId": "1611045f-19bd-4f5e-8c23-47a8dd14d3b3",
        "colab": {
          "base_uri": "https://localhost:8080/",
          "height": 206
        }
      },
      "source": [
        "df.select_dtypes(np.object).head()"
      ],
      "execution_count": 0,
      "outputs": [
        {
          "output_type": "execute_result",
          "data": {
            "text/html": [
              "<div>\n",
              "<style scoped>\n",
              "    .dataframe tbody tr th:only-of-type {\n",
              "        vertical-align: middle;\n",
              "    }\n",
              "\n",
              "    .dataframe tbody tr th {\n",
              "        vertical-align: top;\n",
              "    }\n",
              "\n",
              "    .dataframe thead th {\n",
              "        text-align: right;\n",
              "    }\n",
              "</style>\n",
              "<table border=\"1\" class=\"dataframe\">\n",
              "  <thead>\n",
              "    <tr style=\"text-align: right;\">\n",
              "      <th></th>\n",
              "      <th>ID</th>\n",
              "      <th>ATM Zone</th>\n",
              "      <th>ATM Placement</th>\n",
              "      <th>ATM TYPE</th>\n",
              "      <th>ATM Location TYPE</th>\n",
              "      <th>ATM looks</th>\n",
              "      <th>ATM Near</th>\n",
              "      <th>ATM Attached to</th>\n",
              "      <th>Day Type</th>\n",
              "      <th>ATM Prox</th>\n",
              "      <th>Holiday Sequence</th>\n",
              "    </tr>\n",
              "  </thead>\n",
              "  <tbody>\n",
              "    <tr>\n",
              "      <th>0</th>\n",
              "      <td>TS000000001</td>\n",
              "      <td>RL</td>\n",
              "      <td>Facing Road</td>\n",
              "      <td>Urban</td>\n",
              "      <td>Only WIthdraw</td>\n",
              "      <td>Normal</td>\n",
              "      <td>College</td>\n",
              "      <td>Building</td>\n",
              "      <td>Working</td>\n",
              "      <td>Attached to Branch</td>\n",
              "      <td>WW</td>\n",
              "    </tr>\n",
              "    <tr>\n",
              "      <th>1</th>\n",
              "      <td>TS000000002</td>\n",
              "      <td>RL</td>\n",
              "      <td>Facing Road</td>\n",
              "      <td>Urban</td>\n",
              "      <td>Only WIthdraw</td>\n",
              "      <td>Normal</td>\n",
              "      <td>Temple</td>\n",
              "      <td>Building</td>\n",
              "      <td>Working</td>\n",
              "      <td>Attached to Branch</td>\n",
              "      <td>WW</td>\n",
              "    </tr>\n",
              "    <tr>\n",
              "      <th>2</th>\n",
              "      <td>TS000000003</td>\n",
              "      <td>RL</td>\n",
              "      <td>Facing Road</td>\n",
              "      <td>Town</td>\n",
              "      <td>Only WIthdraw</td>\n",
              "      <td>Normal</td>\n",
              "      <td>College</td>\n",
              "      <td>Building</td>\n",
              "      <td>Working</td>\n",
              "      <td>Attached to Branch</td>\n",
              "      <td>WW</td>\n",
              "    </tr>\n",
              "    <tr>\n",
              "      <th>3</th>\n",
              "      <td>TS000000004</td>\n",
              "      <td>RL</td>\n",
              "      <td>Facing Road</td>\n",
              "      <td>Town</td>\n",
              "      <td>Only WIthdraw</td>\n",
              "      <td>Normal</td>\n",
              "      <td>Shopping Complex</td>\n",
              "      <td>Building</td>\n",
              "      <td>Working</td>\n",
              "      <td>2 ATM Machines (Same Bank)</td>\n",
              "      <td>HH</td>\n",
              "    </tr>\n",
              "    <tr>\n",
              "      <th>4</th>\n",
              "      <td>TS000000005</td>\n",
              "      <td>RL</td>\n",
              "      <td>Facing Road</td>\n",
              "      <td>Town</td>\n",
              "      <td>Only WIthdraw</td>\n",
              "      <td>Normal</td>\n",
              "      <td>Park</td>\n",
              "      <td>Building</td>\n",
              "      <td>Working</td>\n",
              "      <td>Attached to Branch</td>\n",
              "      <td>WW</td>\n",
              "    </tr>\n",
              "  </tbody>\n",
              "</table>\n",
              "</div>"
            ],
            "text/plain": [
              "            ID ATM Zone  ...                    ATM Prox Holiday Sequence\n",
              "0  TS000000001       RL  ...          Attached to Branch               WW\n",
              "1  TS000000002       RL  ...          Attached to Branch               WW\n",
              "2  TS000000003       RL  ...          Attached to Branch               WW\n",
              "3  TS000000004       RL  ...  2 ATM Machines (Same Bank)               HH\n",
              "4  TS000000005       RL  ...          Attached to Branch               WW\n",
              "\n",
              "[5 rows x 11 columns]"
            ]
          },
          "metadata": {
            "tags": []
          },
          "execution_count": 9
        }
      ]
    },
    {
      "cell_type": "code",
      "metadata": {
        "id": "lOJH4PZUxQ6F",
        "colab_type": "code",
        "colab": {}
      },
      "source": [
        "categorical_features = [col for col in df.select_dtypes([np.number,np.object]).columns if len(df[col].unique())<=10]"
      ],
      "execution_count": 0,
      "outputs": []
    },
    {
      "cell_type": "code",
      "metadata": {
        "id": "IyUbIpVtxeSm",
        "colab_type": "code",
        "colab": {}
      },
      "source": [
        "df[categorical_features] = df[categorical_features].astype('category')# df.select_dtypes([np.number,np.object])"
      ],
      "execution_count": 0,
      "outputs": []
    },
    {
      "cell_type": "code",
      "metadata": {
        "id": "nRNDYzGDxlQA",
        "colab_type": "code",
        "outputId": "7a4770dd-1978-4d59-a84d-9d793df8c857",
        "colab": {
          "base_uri": "https://localhost:8080/",
          "height": 399
        }
      },
      "source": [
        "df.dtypes"
      ],
      "execution_count": 0,
      "outputs": [
        {
          "output_type": "execute_result",
          "data": {
            "text/plain": [
              "ID                                             object\n",
              "Number of Shops Around ATM                      int64\n",
              "ATM Zone                                     category\n",
              "No of Other ATMs in 1 KM radius                 int64\n",
              "Estimated Number of Houses in 1 KM Radius       int64\n",
              "ATM Placement                                category\n",
              "ATM TYPE                                     category\n",
              "ATM Location TYPE                            category\n",
              "ATM looks                                    category\n",
              "ATM Near                                       object\n",
              "Avg Withdrawls Per Hour                      category\n",
              "ATM Attached to                              category\n",
              "Avg No of Withdrawls Per Week                   int64\n",
              "Average Wait Time                            category\n",
              "Day Type                                     category\n",
              "ATM RATING                                   category\n",
              "ATM Prox                                     category\n",
              "ATM Since                                    category\n",
              "Holiday Sequence                             category\n",
              "AmountWithDrawn                                 int64\n",
              "dtype: object"
            ]
          },
          "metadata": {
            "tags": []
          },
          "execution_count": 28
        }
      ]
    },
    {
      "cell_type": "code",
      "metadata": {
        "id": "YPNfgVIkywPR",
        "colab_type": "code",
        "outputId": "2c75cd1b-9ad7-42b1-9f40-8913d0c7e1db",
        "colab": {
          "base_uri": "https://localhost:8080/",
          "height": 181
        }
      },
      "source": [
        "df.columns"
      ],
      "execution_count": 0,
      "outputs": [
        {
          "output_type": "execute_result",
          "data": {
            "text/plain": [
              "Index(['ID', 'Number of Shops Around ATM', 'ATM Zone',\n",
              "       'No of Other ATMs in 1 KM radius',\n",
              "       'Estimated Number of Houses in 1 KM Radius', 'ATM Placement',\n",
              "       'ATM TYPE', 'ATM Location TYPE', 'ATM looks', 'ATM Near',\n",
              "       'Avg Withdrawls Per Hour', 'ATM Attached to',\n",
              "       'Avg No of Withdrawls Per Week', 'Average Wait Time', 'Day Type',\n",
              "       'ATM RATING', 'ATM Prox', 'ATM Since', 'Holiday Sequence',\n",
              "       'AmountWithDrawn'],\n",
              "      dtype='object')"
            ]
          },
          "metadata": {
            "tags": []
          },
          "execution_count": 33
        }
      ]
    },
    {
      "cell_type": "code",
      "metadata": {
        "id": "RdwdNCzPy4p5",
        "colab_type": "code",
        "colab": {}
      },
      "source": [
        "dataset = df[[col for col in df.columns if col not in ['ID']]]"
      ],
      "execution_count": 0,
      "outputs": []
    },
    {
      "cell_type": "code",
      "metadata": {
        "id": "-NBhzjJ7znjv",
        "colab_type": "code",
        "outputId": "39f48b29-6cfd-4cf8-ccbb-5dbe76eb26db",
        "colab": {
          "base_uri": "https://localhost:8080/",
          "height": 434
        }
      },
      "source": [
        "dataset.head()"
      ],
      "execution_count": 0,
      "outputs": [
        {
          "output_type": "execute_result",
          "data": {
            "text/html": [
              "<div>\n",
              "<style scoped>\n",
              "    .dataframe tbody tr th:only-of-type {\n",
              "        vertical-align: middle;\n",
              "    }\n",
              "\n",
              "    .dataframe tbody tr th {\n",
              "        vertical-align: top;\n",
              "    }\n",
              "\n",
              "    .dataframe thead th {\n",
              "        text-align: right;\n",
              "    }\n",
              "</style>\n",
              "<table border=\"1\" class=\"dataframe\">\n",
              "  <thead>\n",
              "    <tr style=\"text-align: right;\">\n",
              "      <th></th>\n",
              "      <th>Number of Shops Around ATM</th>\n",
              "      <th>ATM Zone</th>\n",
              "      <th>No of Other ATMs in 1 KM radius</th>\n",
              "      <th>Estimated Number of Houses in 1 KM Radius</th>\n",
              "      <th>ATM Placement</th>\n",
              "      <th>ATM TYPE</th>\n",
              "      <th>ATM Location TYPE</th>\n",
              "      <th>ATM looks</th>\n",
              "      <th>ATM Near</th>\n",
              "      <th>Avg Withdrawls Per Hour</th>\n",
              "      <th>ATM Attached to</th>\n",
              "      <th>Avg No of Withdrawls Per Week</th>\n",
              "      <th>Average Wait Time</th>\n",
              "      <th>Day Type</th>\n",
              "      <th>ATM RATING</th>\n",
              "      <th>ATM Prox</th>\n",
              "      <th>ATM Since</th>\n",
              "      <th>Holiday Sequence</th>\n",
              "      <th>AmountWithDrawn</th>\n",
              "    </tr>\n",
              "  </thead>\n",
              "  <tbody>\n",
              "    <tr>\n",
              "      <th>0</th>\n",
              "      <td>66</td>\n",
              "      <td>RL</td>\n",
              "      <td>65</td>\n",
              "      <td>8450</td>\n",
              "      <td>Facing Road</td>\n",
              "      <td>Urban</td>\n",
              "      <td>Only WIthdraw</td>\n",
              "      <td>Normal</td>\n",
              "      <td>College</td>\n",
              "      <td>7</td>\n",
              "      <td>Building</td>\n",
              "      <td>856</td>\n",
              "      <td>3</td>\n",
              "      <td>Working</td>\n",
              "      <td>4</td>\n",
              "      <td>Attached to Branch</td>\n",
              "      <td>2008</td>\n",
              "      <td>WW</td>\n",
              "      <td>209500</td>\n",
              "    </tr>\n",
              "    <tr>\n",
              "      <th>1</th>\n",
              "      <td>26</td>\n",
              "      <td>RL</td>\n",
              "      <td>80</td>\n",
              "      <td>9600</td>\n",
              "      <td>Facing Road</td>\n",
              "      <td>Urban</td>\n",
              "      <td>Only WIthdraw</td>\n",
              "      <td>Normal</td>\n",
              "      <td>Temple</td>\n",
              "      <td>6</td>\n",
              "      <td>Building</td>\n",
              "      <td>1262</td>\n",
              "      <td>3</td>\n",
              "      <td>Working</td>\n",
              "      <td>3</td>\n",
              "      <td>Attached to Branch</td>\n",
              "      <td>2007</td>\n",
              "      <td>WW</td>\n",
              "      <td>184300</td>\n",
              "    </tr>\n",
              "    <tr>\n",
              "      <th>2</th>\n",
              "      <td>65</td>\n",
              "      <td>RL</td>\n",
              "      <td>68</td>\n",
              "      <td>11250</td>\n",
              "      <td>Facing Road</td>\n",
              "      <td>Town</td>\n",
              "      <td>Only WIthdraw</td>\n",
              "      <td>Normal</td>\n",
              "      <td>College</td>\n",
              "      <td>7</td>\n",
              "      <td>Building</td>\n",
              "      <td>920</td>\n",
              "      <td>3</td>\n",
              "      <td>Working</td>\n",
              "      <td>4</td>\n",
              "      <td>Attached to Branch</td>\n",
              "      <td>2008</td>\n",
              "      <td>WW</td>\n",
              "      <td>231500</td>\n",
              "    </tr>\n",
              "    <tr>\n",
              "      <th>3</th>\n",
              "      <td>80</td>\n",
              "      <td>RL</td>\n",
              "      <td>60</td>\n",
              "      <td>9550</td>\n",
              "      <td>Facing Road</td>\n",
              "      <td>Town</td>\n",
              "      <td>Only WIthdraw</td>\n",
              "      <td>Normal</td>\n",
              "      <td>Shopping Complex</td>\n",
              "      <td>7</td>\n",
              "      <td>Building</td>\n",
              "      <td>961</td>\n",
              "      <td>3</td>\n",
              "      <td>Working</td>\n",
              "      <td>4</td>\n",
              "      <td>2 ATM Machines (Same Bank)</td>\n",
              "      <td>2006</td>\n",
              "      <td>HH</td>\n",
              "      <td>143600</td>\n",
              "    </tr>\n",
              "    <tr>\n",
              "      <th>4</th>\n",
              "      <td>66</td>\n",
              "      <td>RL</td>\n",
              "      <td>84</td>\n",
              "      <td>14260</td>\n",
              "      <td>Facing Road</td>\n",
              "      <td>Town</td>\n",
              "      <td>Only WIthdraw</td>\n",
              "      <td>Normal</td>\n",
              "      <td>Park</td>\n",
              "      <td>8</td>\n",
              "      <td>Building</td>\n",
              "      <td>1145</td>\n",
              "      <td>4</td>\n",
              "      <td>Working</td>\n",
              "      <td>4</td>\n",
              "      <td>Attached to Branch</td>\n",
              "      <td>2008</td>\n",
              "      <td>WW</td>\n",
              "      <td>255600</td>\n",
              "    </tr>\n",
              "  </tbody>\n",
              "</table>\n",
              "</div>"
            ],
            "text/plain": [
              "   Number of Shops Around ATM ATM Zone  ...  Holiday Sequence  AmountWithDrawn\n",
              "0                          66       RL  ...                WW           209500\n",
              "1                          26       RL  ...                WW           184300\n",
              "2                          65       RL  ...                WW           231500\n",
              "3                          80       RL  ...                HH           143600\n",
              "4                          66       RL  ...                WW           255600\n",
              "\n",
              "[5 rows x 19 columns]"
            ]
          },
          "metadata": {
            "tags": []
          },
          "execution_count": 38
        }
      ]
    },
    {
      "cell_type": "code",
      "metadata": {
        "id": "ujp9kzRoz1yO",
        "colab_type": "code",
        "colab": {}
      },
      "source": [
        "datatype_df = pd.DataFrame([(col,len(dataset[col].unique()),str(df[col].dtype)) for col in dataset],columns = ['Feature_Name','Number_of_Unique_Values','Datatype'])"
      ],
      "execution_count": 0,
      "outputs": []
    },
    {
      "cell_type": "code",
      "metadata": {
        "id": "pcxuLR1O0Lj8",
        "colab_type": "code",
        "outputId": "fd9e4aaa-ce1a-4ec1-b720-e091334be0d0",
        "colab": {
          "base_uri": "https://localhost:8080/",
          "height": 645
        }
      },
      "source": [
        "datatype_df"
      ],
      "execution_count": 0,
      "outputs": [
        {
          "output_type": "execute_result",
          "data": {
            "text/html": [
              "<div>\n",
              "<style scoped>\n",
              "    .dataframe tbody tr th:only-of-type {\n",
              "        vertical-align: middle;\n",
              "    }\n",
              "\n",
              "    .dataframe tbody tr th {\n",
              "        vertical-align: top;\n",
              "    }\n",
              "\n",
              "    .dataframe thead th {\n",
              "        text-align: right;\n",
              "    }\n",
              "</style>\n",
              "<table border=\"1\" class=\"dataframe\">\n",
              "  <thead>\n",
              "    <tr style=\"text-align: right;\">\n",
              "      <th></th>\n",
              "      <th>Feature_Name</th>\n",
              "      <th>Number_of_Unique_Values</th>\n",
              "      <th>Datatype</th>\n",
              "    </tr>\n",
              "  </thead>\n",
              "  <tbody>\n",
              "    <tr>\n",
              "      <th>0</th>\n",
              "      <td>Number of Shops Around ATM</td>\n",
              "      <td>120</td>\n",
              "      <td>int64</td>\n",
              "    </tr>\n",
              "    <tr>\n",
              "      <th>1</th>\n",
              "      <td>ATM Zone</td>\n",
              "      <td>5</td>\n",
              "      <td>category</td>\n",
              "    </tr>\n",
              "    <tr>\n",
              "      <th>2</th>\n",
              "      <td>No of Other ATMs in 1 KM radius</td>\n",
              "      <td>110</td>\n",
              "      <td>int64</td>\n",
              "    </tr>\n",
              "    <tr>\n",
              "      <th>3</th>\n",
              "      <td>Estimated Number of Houses in 1 KM Radius</td>\n",
              "      <td>1073</td>\n",
              "      <td>int64</td>\n",
              "    </tr>\n",
              "    <tr>\n",
              "      <th>4</th>\n",
              "      <td>ATM Placement</td>\n",
              "      <td>2</td>\n",
              "      <td>category</td>\n",
              "    </tr>\n",
              "    <tr>\n",
              "      <th>5</th>\n",
              "      <td>ATM TYPE</td>\n",
              "      <td>4</td>\n",
              "      <td>category</td>\n",
              "    </tr>\n",
              "    <tr>\n",
              "      <th>6</th>\n",
              "      <td>ATM Location TYPE</td>\n",
              "      <td>4</td>\n",
              "      <td>category</td>\n",
              "    </tr>\n",
              "    <tr>\n",
              "      <th>7</th>\n",
              "      <td>ATM looks</td>\n",
              "      <td>3</td>\n",
              "      <td>category</td>\n",
              "    </tr>\n",
              "    <tr>\n",
              "      <th>8</th>\n",
              "      <td>ATM Near</td>\n",
              "      <td>26</td>\n",
              "      <td>object</td>\n",
              "    </tr>\n",
              "    <tr>\n",
              "      <th>9</th>\n",
              "      <td>Avg Withdrawls Per Hour</td>\n",
              "      <td>10</td>\n",
              "      <td>category</td>\n",
              "    </tr>\n",
              "    <tr>\n",
              "      <th>10</th>\n",
              "      <td>ATM Attached to</td>\n",
              "      <td>6</td>\n",
              "      <td>category</td>\n",
              "    </tr>\n",
              "    <tr>\n",
              "      <th>11</th>\n",
              "      <td>Avg No of Withdrawls Per Week</td>\n",
              "      <td>753</td>\n",
              "      <td>int64</td>\n",
              "    </tr>\n",
              "    <tr>\n",
              "      <th>12</th>\n",
              "      <td>Average Wait Time</td>\n",
              "      <td>8</td>\n",
              "      <td>category</td>\n",
              "    </tr>\n",
              "    <tr>\n",
              "      <th>13</th>\n",
              "      <td>Day Type</td>\n",
              "      <td>4</td>\n",
              "      <td>category</td>\n",
              "    </tr>\n",
              "    <tr>\n",
              "      <th>14</th>\n",
              "      <td>ATM RATING</td>\n",
              "      <td>4</td>\n",
              "      <td>category</td>\n",
              "    </tr>\n",
              "    <tr>\n",
              "      <th>15</th>\n",
              "      <td>ATM Prox</td>\n",
              "      <td>6</td>\n",
              "      <td>category</td>\n",
              "    </tr>\n",
              "    <tr>\n",
              "      <th>16</th>\n",
              "      <td>ATM Since</td>\n",
              "      <td>5</td>\n",
              "      <td>category</td>\n",
              "    </tr>\n",
              "    <tr>\n",
              "      <th>17</th>\n",
              "      <td>Holiday Sequence</td>\n",
              "      <td>5</td>\n",
              "      <td>category</td>\n",
              "    </tr>\n",
              "    <tr>\n",
              "      <th>18</th>\n",
              "      <td>AmountWithDrawn</td>\n",
              "      <td>12929</td>\n",
              "      <td>int64</td>\n",
              "    </tr>\n",
              "  </tbody>\n",
              "</table>\n",
              "</div>"
            ],
            "text/plain": [
              "                                 Feature_Name  ...  Datatype\n",
              "0                  Number of Shops Around ATM  ...     int64\n",
              "1                                    ATM Zone  ...  category\n",
              "2             No of Other ATMs in 1 KM radius  ...     int64\n",
              "3   Estimated Number of Houses in 1 KM Radius  ...     int64\n",
              "4                               ATM Placement  ...  category\n",
              "5                                    ATM TYPE  ...  category\n",
              "6                           ATM Location TYPE  ...  category\n",
              "7                                   ATM looks  ...  category\n",
              "8                                    ATM Near  ...    object\n",
              "9                     Avg Withdrawls Per Hour  ...  category\n",
              "10                            ATM Attached to  ...  category\n",
              "11              Avg No of Withdrawls Per Week  ...     int64\n",
              "12                          Average Wait Time  ...  category\n",
              "13                                   Day Type  ...  category\n",
              "14                                 ATM RATING  ...  category\n",
              "15                                   ATM Prox  ...  category\n",
              "16                                  ATM Since  ...  category\n",
              "17                           Holiday Sequence  ...  category\n",
              "18                            AmountWithDrawn  ...     int64\n",
              "\n",
              "[19 rows x 3 columns]"
            ]
          },
          "metadata": {
            "tags": []
          },
          "execution_count": 46
        }
      ]
    },
    {
      "cell_type": "code",
      "metadata": {
        "id": "NZCSre6c00q3",
        "colab_type": "code",
        "colab": {}
      },
      "source": [
        "df['ATM Near'] =df['ATM Near'].astype('category')"
      ],
      "execution_count": 0,
      "outputs": []
    },
    {
      "cell_type": "code",
      "metadata": {
        "id": "h8qS0sM51Ayt",
        "colab_type": "code",
        "colab": {}
      },
      "source": [
        "dataset = df[[col for col in df.columns if col not in ['ID']]]"
      ],
      "execution_count": 0,
      "outputs": []
    },
    {
      "cell_type": "code",
      "metadata": {
        "id": "9yLwVpl61UA5",
        "colab_type": "code",
        "colab": {}
      },
      "source": [
        "datatype_df = pd.DataFrame([(col,len(dataset[col].unique()),str(df[col].dtype)) for col in dataset],columns = ['Feature_Name','Number_of_Unique_Values','Datatype'])"
      ],
      "execution_count": 0,
      "outputs": []
    },
    {
      "cell_type": "code",
      "metadata": {
        "id": "E6QeLqm71WXC",
        "colab_type": "code",
        "outputId": "5389cd6b-eaba-41a9-c307-ee9f86d5cca6",
        "colab": {
          "base_uri": "https://localhost:8080/",
          "height": 645
        }
      },
      "source": [
        "datatype_df"
      ],
      "execution_count": 0,
      "outputs": [
        {
          "output_type": "execute_result",
          "data": {
            "text/html": [
              "<div>\n",
              "<style scoped>\n",
              "    .dataframe tbody tr th:only-of-type {\n",
              "        vertical-align: middle;\n",
              "    }\n",
              "\n",
              "    .dataframe tbody tr th {\n",
              "        vertical-align: top;\n",
              "    }\n",
              "\n",
              "    .dataframe thead th {\n",
              "        text-align: right;\n",
              "    }\n",
              "</style>\n",
              "<table border=\"1\" class=\"dataframe\">\n",
              "  <thead>\n",
              "    <tr style=\"text-align: right;\">\n",
              "      <th></th>\n",
              "      <th>Feature_Name</th>\n",
              "      <th>Number_of_Unique_Values</th>\n",
              "      <th>Datatype</th>\n",
              "    </tr>\n",
              "  </thead>\n",
              "  <tbody>\n",
              "    <tr>\n",
              "      <th>0</th>\n",
              "      <td>Number of Shops Around ATM</td>\n",
              "      <td>120</td>\n",
              "      <td>int64</td>\n",
              "    </tr>\n",
              "    <tr>\n",
              "      <th>1</th>\n",
              "      <td>ATM Zone</td>\n",
              "      <td>5</td>\n",
              "      <td>category</td>\n",
              "    </tr>\n",
              "    <tr>\n",
              "      <th>2</th>\n",
              "      <td>No of Other ATMs in 1 KM radius</td>\n",
              "      <td>110</td>\n",
              "      <td>int64</td>\n",
              "    </tr>\n",
              "    <tr>\n",
              "      <th>3</th>\n",
              "      <td>Estimated Number of Houses in 1 KM Radius</td>\n",
              "      <td>1073</td>\n",
              "      <td>int64</td>\n",
              "    </tr>\n",
              "    <tr>\n",
              "      <th>4</th>\n",
              "      <td>ATM Placement</td>\n",
              "      <td>2</td>\n",
              "      <td>category</td>\n",
              "    </tr>\n",
              "    <tr>\n",
              "      <th>5</th>\n",
              "      <td>ATM TYPE</td>\n",
              "      <td>4</td>\n",
              "      <td>category</td>\n",
              "    </tr>\n",
              "    <tr>\n",
              "      <th>6</th>\n",
              "      <td>ATM Location TYPE</td>\n",
              "      <td>4</td>\n",
              "      <td>category</td>\n",
              "    </tr>\n",
              "    <tr>\n",
              "      <th>7</th>\n",
              "      <td>ATM looks</td>\n",
              "      <td>3</td>\n",
              "      <td>category</td>\n",
              "    </tr>\n",
              "    <tr>\n",
              "      <th>8</th>\n",
              "      <td>ATM Near</td>\n",
              "      <td>26</td>\n",
              "      <td>category</td>\n",
              "    </tr>\n",
              "    <tr>\n",
              "      <th>9</th>\n",
              "      <td>Avg Withdrawls Per Hour</td>\n",
              "      <td>10</td>\n",
              "      <td>category</td>\n",
              "    </tr>\n",
              "    <tr>\n",
              "      <th>10</th>\n",
              "      <td>ATM Attached to</td>\n",
              "      <td>6</td>\n",
              "      <td>category</td>\n",
              "    </tr>\n",
              "    <tr>\n",
              "      <th>11</th>\n",
              "      <td>Avg No of Withdrawls Per Week</td>\n",
              "      <td>753</td>\n",
              "      <td>int64</td>\n",
              "    </tr>\n",
              "    <tr>\n",
              "      <th>12</th>\n",
              "      <td>Average Wait Time</td>\n",
              "      <td>8</td>\n",
              "      <td>category</td>\n",
              "    </tr>\n",
              "    <tr>\n",
              "      <th>13</th>\n",
              "      <td>Day Type</td>\n",
              "      <td>4</td>\n",
              "      <td>category</td>\n",
              "    </tr>\n",
              "    <tr>\n",
              "      <th>14</th>\n",
              "      <td>ATM RATING</td>\n",
              "      <td>4</td>\n",
              "      <td>category</td>\n",
              "    </tr>\n",
              "    <tr>\n",
              "      <th>15</th>\n",
              "      <td>ATM Prox</td>\n",
              "      <td>6</td>\n",
              "      <td>category</td>\n",
              "    </tr>\n",
              "    <tr>\n",
              "      <th>16</th>\n",
              "      <td>ATM Since</td>\n",
              "      <td>5</td>\n",
              "      <td>category</td>\n",
              "    </tr>\n",
              "    <tr>\n",
              "      <th>17</th>\n",
              "      <td>Holiday Sequence</td>\n",
              "      <td>5</td>\n",
              "      <td>category</td>\n",
              "    </tr>\n",
              "    <tr>\n",
              "      <th>18</th>\n",
              "      <td>AmountWithDrawn</td>\n",
              "      <td>12929</td>\n",
              "      <td>int64</td>\n",
              "    </tr>\n",
              "  </tbody>\n",
              "</table>\n",
              "</div>"
            ],
            "text/plain": [
              "                                 Feature_Name  ...  Datatype\n",
              "0                  Number of Shops Around ATM  ...     int64\n",
              "1                                    ATM Zone  ...  category\n",
              "2             No of Other ATMs in 1 KM radius  ...     int64\n",
              "3   Estimated Number of Houses in 1 KM Radius  ...     int64\n",
              "4                               ATM Placement  ...  category\n",
              "5                                    ATM TYPE  ...  category\n",
              "6                           ATM Location TYPE  ...  category\n",
              "7                                   ATM looks  ...  category\n",
              "8                                    ATM Near  ...  category\n",
              "9                     Avg Withdrawls Per Hour  ...  category\n",
              "10                            ATM Attached to  ...  category\n",
              "11              Avg No of Withdrawls Per Week  ...     int64\n",
              "12                          Average Wait Time  ...  category\n",
              "13                                   Day Type  ...  category\n",
              "14                                 ATM RATING  ...  category\n",
              "15                                   ATM Prox  ...  category\n",
              "16                                  ATM Since  ...  category\n",
              "17                           Holiday Sequence  ...  category\n",
              "18                            AmountWithDrawn  ...     int64\n",
              "\n",
              "[19 rows x 3 columns]"
            ]
          },
          "metadata": {
            "tags": []
          },
          "execution_count": 53
        }
      ]
    },
    {
      "cell_type": "code",
      "metadata": {
        "id": "-SX4gAYo1Xcc",
        "colab_type": "code",
        "colab": {}
      },
      "source": [
        "# DATASET READY"
      ],
      "execution_count": 0,
      "outputs": []
    },
    {
      "cell_type": "code",
      "metadata": {
        "id": "2QfwLHCH1uqo",
        "colab_type": "code",
        "colab": {}
      },
      "source": [
        "from sklearn.model_selection import KFold, cross_val_score, train_test_split"
      ],
      "execution_count": 0,
      "outputs": []
    },
    {
      "cell_type": "code",
      "metadata": {
        "id": "nzluoHK019HV",
        "colab_type": "code",
        "outputId": "56c22323-7040-4638-f566-008a4a1a3746",
        "colab": {
          "base_uri": "https://localhost:8080/",
          "height": 380
        }
      },
      "source": [
        "dataset.isnull().sum()"
      ],
      "execution_count": 0,
      "outputs": [
        {
          "output_type": "execute_result",
          "data": {
            "text/plain": [
              "Number of Shops Around ATM                   0\n",
              "ATM Zone                                     0\n",
              "No of Other ATMs in 1 KM radius              0\n",
              "Estimated Number of Houses in 1 KM Radius    0\n",
              "ATM Placement                                0\n",
              "ATM TYPE                                     0\n",
              "ATM Location TYPE                            0\n",
              "ATM looks                                    0\n",
              "ATM Near                                     0\n",
              "Avg Withdrawls Per Hour                      0\n",
              "ATM Attached to                              0\n",
              "Avg No of Withdrawls Per Week                0\n",
              "Average Wait Time                            0\n",
              "Day Type                                     0\n",
              "ATM RATING                                   0\n",
              "ATM Prox                                     0\n",
              "ATM Since                                    0\n",
              "Holiday Sequence                             0\n",
              "AmountWithDrawn                              0\n",
              "dtype: int64"
            ]
          },
          "metadata": {
            "tags": []
          },
          "execution_count": 55
        }
      ]
    },
    {
      "cell_type": "code",
      "metadata": {
        "id": "HzJStnCa2Df-",
        "colab_type": "code",
        "outputId": "9bc98eae-7522-4189-ddda-02772058d538",
        "colab": {
          "base_uri": "https://localhost:8080/",
          "height": 887
        }
      },
      "source": [
        "corr_matrix = dataset.corr()\n",
        "mask = np.zeros_like(corr_matrix, dtype=np.bool)\n",
        "mask[np.triu_indices_from(mask)] = True\n",
        "f, ax = plt.subplots(figsize=(25, 15))\n",
        "sns.heatmap(corr_matrix, mask=mask, vmax=0.8, vmin=0.05, annot=True);"
      ],
      "execution_count": 0,
      "outputs": [
        {
          "output_type": "display_data",
          "data": {
            "image/png": "[encoded data removed]",
            "text/plain": [
              "<Figure size 1800x1080 with 2 Axes>"
            ]
          },
          "metadata": {
            "tags": []
          }
        }
      ]
    },
    {
      "cell_type": "code",
      "metadata": {
        "id": "5YXLruj_2T_i",
        "colab_type": "code",
        "outputId": "108b296a-a6b1-4f62-e700-a70a07612bdc",
        "colab": {
          "base_uri": "https://localhost:8080/",
          "height": 567
        }
      },
      "source": [
        "#COLUMNS THAT ARE CORRELATED TO THE SALES PRICE AND INVESLY CORRELATED TO AmountTransacted \n",
        "temp_df=pd.DataFrame(dataset.corr()[target].sort_values(ascending=False))\n",
        "temp_df.plot(kind='bar',figsize=(12,5),color='red')\n",
        "plt.title('Brief Correlation Graph')"
      ],
      "execution_count": 0,
      "outputs": [
        {
          "output_type": "execute_result",
          "data": {
            "text/plain": [
              "Text(0.5, 1.0, 'Brief Correlation Graph')"
            ]
          },
          "metadata": {
            "tags": []
          },
          "execution_count": 59
        },
        {
          "output_type": "display_data",
          "data": {
            "image/png": "[encoded data removed]",
            "text/plain": [
              "<Figure size 864x360 with 1 Axes>"
            ]
          },
          "metadata": {
            "tags": []
          }
        }
      ]
    },
    {
      "cell_type": "code",
      "metadata": {
        "id": "Kjp3VSic24j1",
        "colab_type": "code",
        "outputId": "b4a349e1-37fe-4c89-e9e2-4b70389d4b1b",
        "colab": {
          "base_uri": "https://localhost:8080/",
          "height": 313
        }
      },
      "source": [
        "from scipy import stats\n",
        "from scipy.stats import norm, skew #for some statistics\n",
        "(mu, sigma) = norm.fit(dataset[target])\n",
        "\n",
        "(mu, sigma) = norm.fit(dataset[target])\n",
        "sns.distplot(dataset[target],fit=norm)\n",
        "plt.ylabel('Frequency')\n",
        "plt.title(f'{target} distribution')\n",
        "plt.legend(['Normal dist. ($\\mu=$ {:.2f} and $\\sigma=$ {:.2f} )'.format(mu, sigma)],loc='best')\n",
        "\n"
      ],
      "execution_count": 0,
      "outputs": [
        {
          "output_type": "execute_result",
          "data": {
            "text/plain": [
              "<matplotlib.legend.Legend at 0x7fc0b3b8df60>"
            ]
          },
          "metadata": {
            "tags": []
          },
          "execution_count": 60
        },
        {
          "output_type": "display_data",
          "data": {
            "image/png": "[encoded data removed]",
            "text/plain": [
              "<Figure size 432x288 with 1 Axes>"
            ]
          },
          "metadata": {
            "tags": []
          }
        }
      ]
    },
    {
      "cell_type": "code",
      "metadata": {
        "id": "psqgRMtp4f2U",
        "colab_type": "code",
        "outputId": "9fa70b98-feba-4507-ac1c-217889428806",
        "colab": {
          "base_uri": "https://localhost:8080/",
          "height": 287
        }
      },
      "source": [
        "dataset[target].hist()"
      ],
      "execution_count": 0,
      "outputs": [
        {
          "output_type": "execute_result",
          "data": {
            "text/plain": [
              "<matplotlib.axes._subplots.AxesSubplot at 0x7fc0b3aa7080>"
            ]
          },
          "metadata": {
            "tags": []
          },
          "execution_count": 61
        },
        {
          "output_type": "display_data",
          "data": {
            "image/png": "[encoded data removed]",
            "text/plain": [
              "<Figure size 432x288 with 1 Axes>"
            ]
          },
          "metadata": {
            "tags": []
          }
        }
      ]
    },
    {
      "cell_type": "code",
      "metadata": {
        "id": "r2x0-M-n4k2K",
        "colab_type": "code",
        "outputId": "9aebe66e-38f0-4e53-9d34-c1d5f5200a2e",
        "colab": {
          "base_uri": "https://localhost:8080/",
          "height": 295
        }
      },
      "source": [
        "quantile_plot=stats.probplot(dataset[target], plot=plt)"
      ],
      "execution_count": 0,
      "outputs": [
        {
          "output_type": "display_data",
          "data": {
            "image/png": "[encoded data removed]",
            "text/plain": [
              "<Figure size 432x288 with 1 Axes>"
            ]
          },
          "metadata": {
            "tags": []
          }
        }
      ]
    },
    {
      "cell_type": "code",
      "metadata": {
        "id": "UYwggYEM5MRC",
        "colab_type": "code",
        "outputId": "64673a98-21e0-4949-cedd-147b2fc2e570",
        "colab": {
          "base_uri": "https://localhost:8080/",
          "height": 235
        }
      },
      "source": [
        "dataset[target] = np.log1p(dataset[target])\n",
        "y=dataset[target]\n",
        "y.head()"
      ],
      "execution_count": 0,
      "outputs": [
        {
          "output_type": "stream",
          "text": [
            "/usr/local/lib/python3.6/dist-packages/ipykernel_launcher.py:1: SettingWithCopyWarning: \n",
            "A value is trying to be set on a copy of a slice from a DataFrame.\n",
            "Try using .loc[row_indexer,col_indexer] = value instead\n",
            "\n",
            "See the caveats in the documentation: http://pandas.pydata.org/pandas-docs/stable/indexing.html#indexing-view-versus-copy\n",
            "  \"\"\"Entry point for launching an IPython kernel.\n"
          ],
          "name": "stderr"
        },
        {
          "output_type": "execute_result",
          "data": {
            "text/plain": [
              "0    12.252484\n",
              "1    12.124326\n",
              "2    12.352339\n",
              "3    11.874794\n",
              "4    12.451373\n",
              "Name: AmountWithDrawn, dtype: float64"
            ]
          },
          "metadata": {
            "tags": []
          },
          "execution_count": 63
        }
      ]
    },
    {
      "cell_type": "code",
      "metadata": {
        "id": "Tf-LygNeBSvd",
        "colab_type": "code",
        "outputId": "121a930b-843d-41a3-c117-78e82b15a338",
        "colab": {
          "base_uri": "https://localhost:8080/",
          "height": 350
        }
      },
      "source": [
        "(mu, sigma) = norm.fit(dataset[target])\n",
        "plt.figure(figsize=(15,5))\n",
        "plt.subplot(1,2,1)\n",
        "sns.distplot(dataset[target],fit=norm)\n",
        "plt.ylabel('Frequency')\n",
        "plt.title(f'{target} distribution')\n",
        "plt.subplot(1, 2, 2)\n",
        "quantile_plot=stats.probplot(dataset[target], plot=plt)"
      ],
      "execution_count": 0,
      "outputs": [
        {
          "output_type": "display_data",
          "data": {
            "image/png": "[encoded data removed]",
            "text/plain": [
              "<Figure size 1080x360 with 2 Axes>"
            ]
          },
          "metadata": {
            "tags": []
          }
        }
      ]
    },
    {
      "cell_type": "code",
      "metadata": {
        "id": "8qHJ4K_EBZo0",
        "colab_type": "code",
        "colab": {}
      },
      "source": [
        "df_all = pd.get_dummies(dataset)"
      ],
      "execution_count": 0,
      "outputs": []
    },
    {
      "cell_type": "code",
      "metadata": {
        "id": "vRQw0z_nBpm1",
        "colab_type": "code",
        "outputId": "67ebd8b5-e77a-4854-d9bf-79c1dff48107",
        "colab": {
          "base_uri": "https://localhost:8080/",
          "height": 35
        }
      },
      "source": [
        "df_all.shape"
      ],
      "execution_count": 0,
      "outputs": [
        {
          "output_type": "execute_result",
          "data": {
            "text/plain": [
              "(186880, 97)"
            ]
          },
          "metadata": {
            "tags": []
          },
          "execution_count": 70
        }
      ]
    },
    {
      "cell_type": "code",
      "metadata": {
        "id": "3SBoWcAbCdno",
        "colab_type": "code",
        "colab": {}
      },
      "source": [
        "train_length = round(df_all.shape[0]*0.70)"
      ],
      "execution_count": 0,
      "outputs": []
    },
    {
      "cell_type": "code",
      "metadata": {
        "id": "kghcj33CCG1Q",
        "colab_type": "code",
        "colab": {}
      },
      "source": [
        "X_test=df_all.iloc[train_length:,:]\n",
        "X_train=df_all.iloc[:train_length,:]"
      ],
      "execution_count": 0,
      "outputs": []
    },
    {
      "cell_type": "code",
      "metadata": {
        "id": "5dL99c5WCs7Y",
        "colab_type": "code",
        "outputId": "9ef44e10-58a7-4288-e75c-803e08e81892",
        "colab": {
          "base_uri": "https://localhost:8080/",
          "height": 35
        }
      },
      "source": [
        "X_train.shape,X_test.shape"
      ],
      "execution_count": 0,
      "outputs": [
        {
          "output_type": "execute_result",
          "data": {
            "text/plain": [
              "((130816, 97), (56064, 97))"
            ]
          },
          "metadata": {
            "tags": []
          },
          "execution_count": 78
        }
      ]
    },
    {
      "cell_type": "code",
      "metadata": {
        "id": "eiyxMAcVC3Yg",
        "colab_type": "code",
        "outputId": "ed19d421-c44b-445e-a766-aaec2b8ca483",
        "colab": {
          "base_uri": "https://localhost:8080/",
          "height": 342
        }
      },
      "source": [
        "\n",
        "df_all.head()"
      ],
      "execution_count": 0,
      "outputs": [
        {
          "output_type": "execute_result",
          "data": {
            "text/html": [
              "<div>\n",
              "<style scoped>\n",
              "    .dataframe tbody tr th:only-of-type {\n",
              "        vertical-align: middle;\n",
              "    }\n",
              "\n",
              "    .dataframe tbody tr th {\n",
              "        vertical-align: top;\n",
              "    }\n",
              "\n",
              "    .dataframe thead th {\n",
              "        text-align: right;\n",
              "    }\n",
              "</style>\n",
              "<table border=\"1\" class=\"dataframe\">\n",
              "  <thead>\n",
              "    <tr style=\"text-align: right;\">\n",
              "      <th></th>\n",
              "      <th>Number of Shops Around ATM</th>\n",
              "      <th>No of Other ATMs in 1 KM radius</th>\n",
              "      <th>Estimated Number of Houses in 1 KM Radius</th>\n",
              "      <th>Avg No of Withdrawls Per Week</th>\n",
              "      <th>AmountWithDrawn</th>\n",
              "      <th>ATM Zone_C</th>\n",
              "      <th>ATM Zone_FV</th>\n",
              "      <th>ATM Zone_RH</th>\n",
              "      <th>ATM Zone_RL</th>\n",
              "      <th>ATM Zone_RM</th>\n",
              "      <th>ATM Placement_Facing Road</th>\n",
              "      <th>ATM Placement_Little Inside</th>\n",
              "      <th>ATM TYPE_Bigger Towns</th>\n",
              "      <th>ATM TYPE_Semi Urban</th>\n",
              "      <th>ATM TYPE_Town</th>\n",
              "      <th>ATM TYPE_Urban</th>\n",
              "      <th>ATM Location TYPE_Checkdrop and Withdraw</th>\n",
              "      <th>ATM Location TYPE_Deposit and Withdraw</th>\n",
              "      <th>ATM Location TYPE_Only WIthdraw</th>\n",
              "      <th>ATM Location TYPE_Passbook Printing and Withdraw</th>\n",
              "      <th>ATM looks_New</th>\n",
              "      <th>ATM looks_Normal</th>\n",
              "      <th>ATM looks_Old and Dull</th>\n",
              "      <th>ATM Near_2+ ATMS Very Close</th>\n",
              "      <th>ATM Near_Bazzar</th>\n",
              "      <th>ATM Near_Church</th>\n",
              "      <th>ATM Near_College</th>\n",
              "      <th>ATM Near_Food Joints</th>\n",
              "      <th>ATM Near_Govt Buildings</th>\n",
              "      <th>ATM Near_Highway</th>\n",
              "      <th>ATM Near_Hospital</th>\n",
              "      <th>ATM Near_IT park</th>\n",
              "      <th>ATM Near_Local Attraction</th>\n",
              "      <th>ATM Near_Local Transport</th>\n",
              "      <th>ATM Near_Lodge and Hotel</th>\n",
              "      <th>ATM Near_Market</th>\n",
              "      <th>ATM Near_Office Area</th>\n",
              "      <th>ATM Near_Park</th>\n",
              "      <th>ATM Near_Railway Station</th>\n",
              "      <th>ATM Near_Residential</th>\n",
              "      <th>...</th>\n",
              "      <th>Avg Withdrawls Per Hour_9</th>\n",
              "      <th>Avg Withdrawls Per Hour_10</th>\n",
              "      <th>ATM Attached to_Building</th>\n",
              "      <th>ATM Attached to_Flat</th>\n",
              "      <th>ATM Attached to_House</th>\n",
              "      <th>ATM Attached to_Petrol Bunk</th>\n",
              "      <th>ATM Attached to_Shed</th>\n",
              "      <th>ATM Attached to_Shop</th>\n",
              "      <th>Average Wait Time_0</th>\n",
              "      <th>Average Wait Time_1</th>\n",
              "      <th>Average Wait Time_2</th>\n",
              "      <th>Average Wait Time_3</th>\n",
              "      <th>Average Wait Time_4</th>\n",
              "      <th>Average Wait Time_5</th>\n",
              "      <th>Average Wait Time_6</th>\n",
              "      <th>Average Wait Time_8</th>\n",
              "      <th>Day Type_Festival</th>\n",
              "      <th>Day Type_National Holiday</th>\n",
              "      <th>Day Type_Strike</th>\n",
              "      <th>Day Type_Working</th>\n",
              "      <th>ATM RATING_2</th>\n",
              "      <th>ATM RATING_3</th>\n",
              "      <th>ATM RATING_4</th>\n",
              "      <th>ATM RATING_5</th>\n",
              "      <th>ATM Prox_2 ATM Machines (Same Bank)</th>\n",
              "      <th>ATM Prox_2 ATMS in same Building</th>\n",
              "      <th>ATM Prox_2+ ATMS Very Close</th>\n",
              "      <th>ATM Prox_Attached to Branch</th>\n",
              "      <th>ATM Prox_Non Closed ATM</th>\n",
              "      <th>ATM Prox_Other Bank ATM</th>\n",
              "      <th>ATM Since_2006</th>\n",
              "      <th>ATM Since_2007</th>\n",
              "      <th>ATM Since_2008</th>\n",
              "      <th>ATM Since_2009</th>\n",
              "      <th>ATM Since_2010</th>\n",
              "      <th>Holiday Sequence_HH</th>\n",
              "      <th>Holiday Sequence_HW</th>\n",
              "      <th>Holiday Sequence_Long Weekend</th>\n",
              "      <th>Holiday Sequence_WH</th>\n",
              "      <th>Holiday Sequence_WW</th>\n",
              "    </tr>\n",
              "  </thead>\n",
              "  <tbody>\n",
              "    <tr>\n",
              "      <th>0</th>\n",
              "      <td>66</td>\n",
              "      <td>65</td>\n",
              "      <td>8450</td>\n",
              "      <td>856</td>\n",
              "      <td>12.252484</td>\n",
              "      <td>0</td>\n",
              "      <td>0</td>\n",
              "      <td>0</td>\n",
              "      <td>1</td>\n",
              "      <td>0</td>\n",
              "      <td>1</td>\n",
              "      <td>0</td>\n",
              "      <td>0</td>\n",
              "      <td>0</td>\n",
              "      <td>0</td>\n",
              "      <td>1</td>\n",
              "      <td>0</td>\n",
              "      <td>0</td>\n",
              "      <td>1</td>\n",
              "      <td>0</td>\n",
              "      <td>0</td>\n",
              "      <td>1</td>\n",
              "      <td>0</td>\n",
              "      <td>0</td>\n",
              "      <td>0</td>\n",
              "      <td>0</td>\n",
              "      <td>1</td>\n",
              "      <td>0</td>\n",
              "      <td>0</td>\n",
              "      <td>0</td>\n",
              "      <td>0</td>\n",
              "      <td>0</td>\n",
              "      <td>0</td>\n",
              "      <td>0</td>\n",
              "      <td>0</td>\n",
              "      <td>0</td>\n",
              "      <td>0</td>\n",
              "      <td>0</td>\n",
              "      <td>0</td>\n",
              "      <td>0</td>\n",
              "      <td>...</td>\n",
              "      <td>0</td>\n",
              "      <td>0</td>\n",
              "      <td>1</td>\n",
              "      <td>0</td>\n",
              "      <td>0</td>\n",
              "      <td>0</td>\n",
              "      <td>0</td>\n",
              "      <td>0</td>\n",
              "      <td>0</td>\n",
              "      <td>0</td>\n",
              "      <td>0</td>\n",
              "      <td>1</td>\n",
              "      <td>0</td>\n",
              "      <td>0</td>\n",
              "      <td>0</td>\n",
              "      <td>0</td>\n",
              "      <td>0</td>\n",
              "      <td>0</td>\n",
              "      <td>0</td>\n",
              "      <td>1</td>\n",
              "      <td>0</td>\n",
              "      <td>0</td>\n",
              "      <td>1</td>\n",
              "      <td>0</td>\n",
              "      <td>0</td>\n",
              "      <td>0</td>\n",
              "      <td>0</td>\n",
              "      <td>1</td>\n",
              "      <td>0</td>\n",
              "      <td>0</td>\n",
              "      <td>0</td>\n",
              "      <td>0</td>\n",
              "      <td>1</td>\n",
              "      <td>0</td>\n",
              "      <td>0</td>\n",
              "      <td>0</td>\n",
              "      <td>0</td>\n",
              "      <td>0</td>\n",
              "      <td>0</td>\n",
              "      <td>1</td>\n",
              "    </tr>\n",
              "    <tr>\n",
              "      <th>1</th>\n",
              "      <td>26</td>\n",
              "      <td>80</td>\n",
              "      <td>9600</td>\n",
              "      <td>1262</td>\n",
              "      <td>12.124326</td>\n",
              "      <td>0</td>\n",
              "      <td>0</td>\n",
              "      <td>0</td>\n",
              "      <td>1</td>\n",
              "      <td>0</td>\n",
              "      <td>1</td>\n",
              "      <td>0</td>\n",
              "      <td>0</td>\n",
              "      <td>0</td>\n",
              "      <td>0</td>\n",
              "      <td>1</td>\n",
              "      <td>0</td>\n",
              "      <td>0</td>\n",
              "      <td>1</td>\n",
              "      <td>0</td>\n",
              "      <td>0</td>\n",
              "      <td>1</td>\n",
              "      <td>0</td>\n",
              "      <td>0</td>\n",
              "      <td>0</td>\n",
              "      <td>0</td>\n",
              "      <td>0</td>\n",
              "      <td>0</td>\n",
              "      <td>0</td>\n",
              "      <td>0</td>\n",
              "      <td>0</td>\n",
              "      <td>0</td>\n",
              "      <td>0</td>\n",
              "      <td>0</td>\n",
              "      <td>0</td>\n",
              "      <td>0</td>\n",
              "      <td>0</td>\n",
              "      <td>0</td>\n",
              "      <td>0</td>\n",
              "      <td>0</td>\n",
              "      <td>...</td>\n",
              "      <td>0</td>\n",
              "      <td>0</td>\n",
              "      <td>1</td>\n",
              "      <td>0</td>\n",
              "      <td>0</td>\n",
              "      <td>0</td>\n",
              "      <td>0</td>\n",
              "      <td>0</td>\n",
              "      <td>0</td>\n",
              "      <td>0</td>\n",
              "      <td>0</td>\n",
              "      <td>1</td>\n",
              "      <td>0</td>\n",
              "      <td>0</td>\n",
              "      <td>0</td>\n",
              "      <td>0</td>\n",
              "      <td>0</td>\n",
              "      <td>0</td>\n",
              "      <td>0</td>\n",
              "      <td>1</td>\n",
              "      <td>0</td>\n",
              "      <td>1</td>\n",
              "      <td>0</td>\n",
              "      <td>0</td>\n",
              "      <td>0</td>\n",
              "      <td>0</td>\n",
              "      <td>0</td>\n",
              "      <td>1</td>\n",
              "      <td>0</td>\n",
              "      <td>0</td>\n",
              "      <td>0</td>\n",
              "      <td>1</td>\n",
              "      <td>0</td>\n",
              "      <td>0</td>\n",
              "      <td>0</td>\n",
              "      <td>0</td>\n",
              "      <td>0</td>\n",
              "      <td>0</td>\n",
              "      <td>0</td>\n",
              "      <td>1</td>\n",
              "    </tr>\n",
              "    <tr>\n",
              "      <th>2</th>\n",
              "      <td>65</td>\n",
              "      <td>68</td>\n",
              "      <td>11250</td>\n",
              "      <td>920</td>\n",
              "      <td>12.352339</td>\n",
              "      <td>0</td>\n",
              "      <td>0</td>\n",
              "      <td>0</td>\n",
              "      <td>1</td>\n",
              "      <td>0</td>\n",
              "      <td>1</td>\n",
              "      <td>0</td>\n",
              "      <td>0</td>\n",
              "      <td>0</td>\n",
              "      <td>1</td>\n",
              "      <td>0</td>\n",
              "      <td>0</td>\n",
              "      <td>0</td>\n",
              "      <td>1</td>\n",
              "      <td>0</td>\n",
              "      <td>0</td>\n",
              "      <td>1</td>\n",
              "      <td>0</td>\n",
              "      <td>0</td>\n",
              "      <td>0</td>\n",
              "      <td>0</td>\n",
              "      <td>1</td>\n",
              "      <td>0</td>\n",
              "      <td>0</td>\n",
              "      <td>0</td>\n",
              "      <td>0</td>\n",
              "      <td>0</td>\n",
              "      <td>0</td>\n",
              "      <td>0</td>\n",
              "      <td>0</td>\n",
              "      <td>0</td>\n",
              "      <td>0</td>\n",
              "      <td>0</td>\n",
              "      <td>0</td>\n",
              "      <td>0</td>\n",
              "      <td>...</td>\n",
              "      <td>0</td>\n",
              "      <td>0</td>\n",
              "      <td>1</td>\n",
              "      <td>0</td>\n",
              "      <td>0</td>\n",
              "      <td>0</td>\n",
              "      <td>0</td>\n",
              "      <td>0</td>\n",
              "      <td>0</td>\n",
              "      <td>0</td>\n",
              "      <td>0</td>\n",
              "      <td>1</td>\n",
              "      <td>0</td>\n",
              "      <td>0</td>\n",
              "      <td>0</td>\n",
              "      <td>0</td>\n",
              "      <td>0</td>\n",
              "      <td>0</td>\n",
              "      <td>0</td>\n",
              "      <td>1</td>\n",
              "      <td>0</td>\n",
              "      <td>0</td>\n",
              "      <td>1</td>\n",
              "      <td>0</td>\n",
              "      <td>0</td>\n",
              "      <td>0</td>\n",
              "      <td>0</td>\n",
              "      <td>1</td>\n",
              "      <td>0</td>\n",
              "      <td>0</td>\n",
              "      <td>0</td>\n",
              "      <td>0</td>\n",
              "      <td>1</td>\n",
              "      <td>0</td>\n",
              "      <td>0</td>\n",
              "      <td>0</td>\n",
              "      <td>0</td>\n",
              "      <td>0</td>\n",
              "      <td>0</td>\n",
              "      <td>1</td>\n",
              "    </tr>\n",
              "    <tr>\n",
              "      <th>3</th>\n",
              "      <td>80</td>\n",
              "      <td>60</td>\n",
              "      <td>9550</td>\n",
              "      <td>961</td>\n",
              "      <td>11.874794</td>\n",
              "      <td>0</td>\n",
              "      <td>0</td>\n",
              "      <td>0</td>\n",
              "      <td>1</td>\n",
              "      <td>0</td>\n",
              "      <td>1</td>\n",
              "      <td>0</td>\n",
              "      <td>0</td>\n",
              "      <td>0</td>\n",
              "      <td>1</td>\n",
              "      <td>0</td>\n",
              "      <td>0</td>\n",
              "      <td>0</td>\n",
              "      <td>1</td>\n",
              "      <td>0</td>\n",
              "      <td>0</td>\n",
              "      <td>1</td>\n",
              "      <td>0</td>\n",
              "      <td>0</td>\n",
              "      <td>0</td>\n",
              "      <td>0</td>\n",
              "      <td>0</td>\n",
              "      <td>0</td>\n",
              "      <td>0</td>\n",
              "      <td>0</td>\n",
              "      <td>0</td>\n",
              "      <td>0</td>\n",
              "      <td>0</td>\n",
              "      <td>0</td>\n",
              "      <td>0</td>\n",
              "      <td>0</td>\n",
              "      <td>0</td>\n",
              "      <td>0</td>\n",
              "      <td>0</td>\n",
              "      <td>0</td>\n",
              "      <td>...</td>\n",
              "      <td>0</td>\n",
              "      <td>0</td>\n",
              "      <td>1</td>\n",
              "      <td>0</td>\n",
              "      <td>0</td>\n",
              "      <td>0</td>\n",
              "      <td>0</td>\n",
              "      <td>0</td>\n",
              "      <td>0</td>\n",
              "      <td>0</td>\n",
              "      <td>0</td>\n",
              "      <td>1</td>\n",
              "      <td>0</td>\n",
              "      <td>0</td>\n",
              "      <td>0</td>\n",
              "      <td>0</td>\n",
              "      <td>0</td>\n",
              "      <td>0</td>\n",
              "      <td>0</td>\n",
              "      <td>1</td>\n",
              "      <td>0</td>\n",
              "      <td>0</td>\n",
              "      <td>1</td>\n",
              "      <td>0</td>\n",
              "      <td>1</td>\n",
              "      <td>0</td>\n",
              "      <td>0</td>\n",
              "      <td>0</td>\n",
              "      <td>0</td>\n",
              "      <td>0</td>\n",
              "      <td>1</td>\n",
              "      <td>0</td>\n",
              "      <td>0</td>\n",
              "      <td>0</td>\n",
              "      <td>0</td>\n",
              "      <td>1</td>\n",
              "      <td>0</td>\n",
              "      <td>0</td>\n",
              "      <td>0</td>\n",
              "      <td>0</td>\n",
              "    </tr>\n",
              "    <tr>\n",
              "      <th>4</th>\n",
              "      <td>66</td>\n",
              "      <td>84</td>\n",
              "      <td>14260</td>\n",
              "      <td>1145</td>\n",
              "      <td>12.451373</td>\n",
              "      <td>0</td>\n",
              "      <td>0</td>\n",
              "      <td>0</td>\n",
              "      <td>1</td>\n",
              "      <td>0</td>\n",
              "      <td>1</td>\n",
              "      <td>0</td>\n",
              "      <td>0</td>\n",
              "      <td>0</td>\n",
              "      <td>1</td>\n",
              "      <td>0</td>\n",
              "      <td>0</td>\n",
              "      <td>0</td>\n",
              "      <td>1</td>\n",
              "      <td>0</td>\n",
              "      <td>0</td>\n",
              "      <td>1</td>\n",
              "      <td>0</td>\n",
              "      <td>0</td>\n",
              "      <td>0</td>\n",
              "      <td>0</td>\n",
              "      <td>0</td>\n",
              "      <td>0</td>\n",
              "      <td>0</td>\n",
              "      <td>0</td>\n",
              "      <td>0</td>\n",
              "      <td>0</td>\n",
              "      <td>0</td>\n",
              "      <td>0</td>\n",
              "      <td>0</td>\n",
              "      <td>0</td>\n",
              "      <td>0</td>\n",
              "      <td>1</td>\n",
              "      <td>0</td>\n",
              "      <td>0</td>\n",
              "      <td>...</td>\n",
              "      <td>0</td>\n",
              "      <td>0</td>\n",
              "      <td>1</td>\n",
              "      <td>0</td>\n",
              "      <td>0</td>\n",
              "      <td>0</td>\n",
              "      <td>0</td>\n",
              "      <td>0</td>\n",
              "      <td>0</td>\n",
              "      <td>0</td>\n",
              "      <td>0</td>\n",
              "      <td>0</td>\n",
              "      <td>1</td>\n",
              "      <td>0</td>\n",
              "      <td>0</td>\n",
              "      <td>0</td>\n",
              "      <td>0</td>\n",
              "      <td>0</td>\n",
              "      <td>0</td>\n",
              "      <td>1</td>\n",
              "      <td>0</td>\n",
              "      <td>0</td>\n",
              "      <td>1</td>\n",
              "      <td>0</td>\n",
              "      <td>0</td>\n",
              "      <td>0</td>\n",
              "      <td>0</td>\n",
              "      <td>1</td>\n",
              "      <td>0</td>\n",
              "      <td>0</td>\n",
              "      <td>0</td>\n",
              "      <td>0</td>\n",
              "      <td>1</td>\n",
              "      <td>0</td>\n",
              "      <td>0</td>\n",
              "      <td>0</td>\n",
              "      <td>0</td>\n",
              "      <td>0</td>\n",
              "      <td>0</td>\n",
              "      <td>1</td>\n",
              "    </tr>\n",
              "  </tbody>\n",
              "</table>\n",
              "<p>5 rows × 97 columns</p>\n",
              "</div>"
            ],
            "text/plain": [
              "   Number of Shops Around ATM  ...  Holiday Sequence_WW\n",
              "0                          66  ...                    1\n",
              "1                          26  ...                    1\n",
              "2                          65  ...                    1\n",
              "3                          80  ...                    0\n",
              "4                          66  ...                    1\n",
              "\n",
              "[5 rows x 97 columns]"
            ]
          },
          "metadata": {
            "tags": []
          },
          "execution_count": 79
        }
      ]
    },
    {
      "cell_type": "code",
      "metadata": {
        "id": "qq4Yu4H8DAFI",
        "colab_type": "code",
        "outputId": "6e11b8f9-0f18-4ebb-eca0-736cdbdab4d0",
        "colab": {
          "base_uri": "https://localhost:8080/",
          "height": 72
        }
      },
      "source": [
        "#Lasso Regression\n",
        "X= X_train.drop(target,axis = 1).copy()\n",
        "y = X_train[target].copy()\n",
        "from sklearn.linear_model import Lasso\n",
        "lasso=Lasso(alpha=0.005)\n",
        "lasso.fit(X,y)"
      ],
      "execution_count": 0,
      "outputs": [
        {
          "output_type": "execute_result",
          "data": {
            "text/plain": [
              "Lasso(alpha=0.005, copy_X=True, fit_intercept=True, max_iter=1000,\n",
              "      normalize=False, positive=False, precompute=False, random_state=None,\n",
              "      selection='cyclic', tol=0.0001, warm_start=False)"
            ]
          },
          "metadata": {
            "tags": []
          },
          "execution_count": 83
        }
      ]
    },
    {
      "cell_type": "code",
      "metadata": {
        "id": "yKY6HRJ-DeR_",
        "colab_type": "code",
        "colab": {}
      },
      "source": [
        "test_x = X_test.drop(target,axis=1)\n",
        "test_y = X_test[target]\n",
        "test_lasso=np.expm1(lasso.predict(test_x))"
      ],
      "execution_count": 0,
      "outputs": []
    },
    {
      "cell_type": "code",
      "metadata": {
        "id": "ytLZK3lEDhgO",
        "colab_type": "code",
        "colab": {}
      },
      "source": [
        "results_df=pd.DataFrame(test_lasso,columns=[f'Predicted_{target}'])\n",
        "results_df[f'Actual_{target}']=np.expm1(test_y.values)"
      ],
      "execution_count": 0,
      "outputs": []
    },
    {
      "cell_type": "code",
      "metadata": {
        "id": "nHNwqNHFE8c-",
        "colab_type": "code",
        "outputId": "c8b17041-fc24-4a51-c8bb-950988eaf0d5",
        "colab": {
          "base_uri": "https://localhost:8080/",
          "height": 35
        }
      },
      "source": [
        "preds= test_lasso.copy()\n",
        "results_df=pd.DataFrame(preds,columns=[f'Predicted_{target}'])\n",
        "results_df[f'Actual_{target}']=np.expm1(test_y.values)\n",
        "from sklearn.metrics import mean_squared_error\n",
        "np.sqrt(mean_squared_error(results_df.values[0],results_df.values[1]))\n",
        "\n"
      ],
      "execution_count": 0,
      "outputs": [
        {
          "output_type": "execute_result",
          "data": {
            "text/plain": [
              "189087.42068169164"
            ]
          },
          "metadata": {
            "tags": []
          },
          "execution_count": 115
        }
      ]
    },
    {
      "cell_type": "code",
      "metadata": {
        "id": "xfLh1NKxFMXM",
        "colab_type": "code",
        "colab": {}
      },
      "source": [
        "#Random Forest Regression"
      ],
      "execution_count": 0,
      "outputs": []
    },
    {
      "cell_type": "code",
      "metadata": {
        "id": "-2G_g1fVF5SV",
        "colab_type": "code",
        "colab": {}
      },
      "source": [
        "from sklearn.ensemble import RandomForestRegressor"
      ],
      "execution_count": 0,
      "outputs": []
    },
    {
      "cell_type": "code",
      "metadata": {
        "id": "pjSS71rfF9Vz",
        "colab_type": "code",
        "colab": {}
      },
      "source": [
        "forest=RandomForestRegressor(random_state=42)"
      ],
      "execution_count": 0,
      "outputs": []
    },
    {
      "cell_type": "code",
      "metadata": {
        "id": "AyAyOW8vF_BX",
        "colab_type": "code",
        "outputId": "d96ab2be-ad0d-42bb-9c44-b59b58761e37",
        "colab": {
          "base_uri": "https://localhost:8080/",
          "height": 144
        }
      },
      "source": [
        "forest.fit(X,y)"
      ],
      "execution_count": 0,
      "outputs": [
        {
          "output_type": "execute_result",
          "data": {
            "text/plain": [
              "RandomForestRegressor(bootstrap=True, criterion='mse', max_depth=None,\n",
              "                      max_features='auto', max_leaf_nodes=None,\n",
              "                      min_impurity_decrease=0.0, min_impurity_split=None,\n",
              "                      min_samples_leaf=1, min_samples_split=2,\n",
              "                      min_weight_fraction_leaf=0.0, n_estimators=10,\n",
              "                      n_jobs=None, oob_score=False, random_state=42, verbose=0,\n",
              "                      warm_start=False)"
            ]
          },
          "metadata": {
            "tags": []
          },
          "execution_count": 112
        }
      ]
    },
    {
      "cell_type": "code",
      "metadata": {
        "id": "PMU-Uxu-GAnP",
        "colab_type": "code",
        "colab": {}
      },
      "source": [
        "yr=np.expm1(forest.predict(test_x))"
      ],
      "execution_count": 0,
      "outputs": []
    },
    {
      "cell_type": "code",
      "metadata": {
        "id": "e44iw8QKGrJE",
        "colab_type": "code",
        "outputId": "b70f993f-b22b-43fe-c146-f02e1a6b4680",
        "colab": {
          "base_uri": "https://localhost:8080/",
          "height": 35
        }
      },
      "source": [
        "preds= yr.copy()\n",
        "results_df=pd.DataFrame(preds,columns=[f'Predicted_{target}'])\n",
        "results_df[f'Actual_{target}']=np.expm1(test_y.values)\n",
        "from sklearn.metrics import mean_squared_error\n",
        "np.sqrt(mean_squared_error(results_df.values[0],results_df.values[1]))\n",
        "\n"
      ],
      "execution_count": 0,
      "outputs": [
        {
          "output_type": "execute_result",
          "data": {
            "text/plain": [
              "217943.04390728506"
            ]
          },
          "metadata": {
            "tags": []
          },
          "execution_count": 116
        }
      ]
    },
    {
      "cell_type": "code",
      "metadata": {
        "id": "zp0Te8iyHuAc",
        "colab_type": "code",
        "colab": {}
      },
      "source": [
        "#Ridge Regression\n",
        "\n",
        "from sklearn.linear_model import Ridge"
      ],
      "execution_count": 0,
      "outputs": []
    },
    {
      "cell_type": "code",
      "metadata": {
        "id": "A_zIyZM3IZmB",
        "colab_type": "code",
        "outputId": "c4fda7a6-6dbb-476d-a895-6c6761d8fb85",
        "colab": {
          "base_uri": "https://localhost:8080/",
          "height": 53
        }
      },
      "source": [
        "ridge=Ridge()\n",
        "ridge.fit(X,y)"
      ],
      "execution_count": 0,
      "outputs": [
        {
          "output_type": "execute_result",
          "data": {
            "text/plain": [
              "Ridge(alpha=1.0, copy_X=True, fit_intercept=True, max_iter=None,\n",
              "      normalize=False, random_state=None, solver='auto', tol=0.001)"
            ]
          },
          "metadata": {
            "tags": []
          },
          "execution_count": 118
        }
      ]
    },
    {
      "cell_type": "code",
      "metadata": {
        "id": "gfcrN4MQIbv1",
        "colab_type": "code",
        "colab": {}
      },
      "source": [
        "y_re=np.expm1(ridge.predict(test_x))"
      ],
      "execution_count": 0,
      "outputs": []
    },
    {
      "cell_type": "code",
      "metadata": {
        "id": "t1QEiqdlIiKf",
        "colab_type": "code",
        "outputId": "f5df8ab8-57d1-4f14-b41f-6c74d54696d7",
        "colab": {
          "base_uri": "https://localhost:8080/",
          "height": 35
        }
      },
      "source": [
        "preds= y_re.copy()\n",
        "results_df=pd.DataFrame(preds,columns=[f'Predicted_{target}'])\n",
        "results_df[f'Actual_{target}']=np.expm1(test_y.values)\n",
        "from sklearn.metrics import mean_squared_error\n",
        "np.sqrt(mean_squared_error(results_df.values[0],results_df.values[1]))\n",
        "\n"
      ],
      "execution_count": 0,
      "outputs": [
        {
          "output_type": "execute_result",
          "data": {
            "text/plain": [
              "216399.33078219075"
            ]
          },
          "metadata": {
            "tags": []
          },
          "execution_count": 121
        }
      ]
    },
    {
      "cell_type": "code",
      "metadata": {
        "id": "wRnCEFDjIpvt",
        "colab_type": "code",
        "colab": {}
      },
      "source": [
        ""
      ],
      "execution_count": 0,
      "outputs": []
    }
  ]
}